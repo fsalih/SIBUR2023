{
 "cells": [
  {
   "cell_type": "code",
   "execution_count": null,
   "id": "c47a0ba3-b368-411d-9d73-ffcea779dc7d",
   "metadata": {},
   "outputs": [],
   "source": []
  },
  {
   "cell_type": "markdown",
   "id": "bb7114e5-e0ed-43de-93e6-06f4e6120728",
   "metadata": {},
   "source": [
    "# 4 -----------------------------------------------------------"
   ]
  },
  {
   "cell_type": "code",
   "execution_count": 29,
   "id": "965c3587-65e5-4ce6-ae13-55754fe3a061",
   "metadata": {},
   "outputs": [],
   "source": [
    "# Базовые библиотеки\n",
    "import pathlib\n",
    "import numpy as np\n",
    "import pandas as pd\n",
    "from sklearn.model_selection import train_test_split\n",
    "from sklearn.metrics import mean_absolute_percentage_error\n",
    "\n",
    "# Базовый ввод данных\n",
    "DATA_DIR = pathlib.Path(\"./data\")  # Откуда считываем данные\n",
    "RS = 42\n",
    "train = pd.read_parquet(DATA_DIR.joinpath(\"train.parquet\"))\n",
    "CAT = [\"feature4\"]\n",
    "TARGETS = [\"target0\", \"target1\"]  # список таргетов для модели\n",
    "FTS = train.filter(like=\"feature\").columns.difference(CAT)  # Выбираем фичи для модели\n",
    "train[\"gas\"] = 0\n",
    "train.loc[train.feature4==\"gas2\", \"gas\"] = 1\n",
    "FTS = FTS.union([\"gas\"])  # список фичей для модели\n",
    "\n",
    "# разбивка на трейн и тест\n",
    "X_tr, X_val, y_tr, y_val = train_test_split(train[FTS], train[TARGETS], train_size=0.5, random_state=RS)  "
   ]
  },
  {
   "cell_type": "code",
   "execution_count": null,
   "id": "7a217133-cb88-4f4f-9d7c-afee64ac4863",
   "metadata": {},
   "outputs": [],
   "source": []
  },
  {
   "cell_type": "code",
   "execution_count": 2,
   "id": "4819830c-6e11-4834-a1ab-435cddd5ad9f",
   "metadata": {},
   "outputs": [],
   "source": [
    "import torch\n",
    "import torch.nn as nn\n",
    "import torch.optim as optim\n",
    "import pandas as pd"
   ]
  },
  {
   "cell_type": "code",
   "execution_count": 3,
   "id": "032e4aac-e3fa-4185-91d7-340932ce0f79",
   "metadata": {},
   "outputs": [],
   "source": [
    "# Define the neural network architecture\n",
    "class RegressionModel(nn.Module):\n",
    "    def __init__(self):\n",
    "        super(RegressionModel, self).__init__()\n",
    "        self.hidden_layers = nn.Sequential(\n",
    "            nn.Linear(25, 1024),\n",
    "            nn.ReLU(),\n",
    "            nn.Linear(1024, 512),\n",
    "            nn.ReLU(),\n",
    "            nn.Linear(512, 256),\n",
    "            nn.ReLU(),\n",
    "            nn.Linear(256, 2)\n",
    "        )\n",
    "        \n",
    "    def forward(self, x):\n",
    "        return self.hidden_layers(x)\n"
   ]
  },
  {
   "cell_type": "code",
   "execution_count": 4,
   "id": "e14aa06f-b88e-4b7f-ae80-2217357c83a2",
   "metadata": {},
   "outputs": [],
   "source": [
    "# Load your data using pandas (assuming you have a DataFrame with 25 features and 2 targets)\n",
    "# data = pd.read_csv('your_data.csv')\n",
    "\n",
    "# features = X_tr  \n",
    "# targets = y_tr  \n",
    "\n",
    "features = train[FTS]\n",
    "targets = train[TARGETS]"
   ]
  },
  {
   "cell_type": "code",
   "execution_count": 5,
   "id": "b4496448-96fd-4b96-94b0-d8ae4dc5de78",
   "metadata": {},
   "outputs": [],
   "source": [
    "# Convert the data to PyTorch tensors\n",
    "features_tensor = torch.tensor(features.values, dtype=torch.float32)\n",
    "targets_tensor = torch.tensor(targets.values, dtype=torch.float32)"
   ]
  },
  {
   "cell_type": "code",
   "execution_count": 6,
   "id": "64607876-b922-4d0f-900d-082ae9b78e6d",
   "metadata": {},
   "outputs": [],
   "source": [
    "# Move tensors to GPU if available\n",
    "device = torch.device('cuda' if torch.cuda.is_available() else 'cpu')\n",
    "features_tensor = features_tensor.to(device)\n",
    "targets_tensor = targets_tensor.to(device)"
   ]
  },
  {
   "cell_type": "code",
   "execution_count": 7,
   "id": "b01f532a-daff-4161-8f59-e55b6bcd62de",
   "metadata": {},
   "outputs": [],
   "source": [
    "# Create an instance of the regression model\n",
    "model = RegressionModel()\n",
    "model = model.to(device)\n",
    "\n",
    "# Set the model parameters (you can customize these)\n",
    "learning_rate = 0.001\n",
    "num_epochs = 200\n",
    "\n",
    "# Define the loss function and optimizer\n",
    "criterion = nn.MSELoss()\n",
    "optimizer = optim.Adam(model.parameters(), lr=learning_rate)"
   ]
  },
  {
   "cell_type": "code",
   "execution_count": 8,
   "id": "1debb830-4f83-48ad-a2f8-37270b859be9",
   "metadata": {},
   "outputs": [
    {
     "name": "stdout",
     "output_type": "stream",
     "text": [
      "Epoch [10/200], Loss: 89.9595\n",
      "Epoch [20/200], Loss: 42.8287\n",
      "Epoch [30/200], Loss: 21.2663\n",
      "Epoch [40/200], Loss: 15.1361\n",
      "Epoch [50/200], Loss: 9.8317\n",
      "Epoch [60/200], Loss: 5.8180\n",
      "Epoch [70/200], Loss: 3.4715\n",
      "Epoch [80/200], Loss: 2.1352\n",
      "Epoch [90/200], Loss: 1.6213\n",
      "Epoch [100/200], Loss: 1.0615\n",
      "Epoch [110/200], Loss: 0.8650\n",
      "Epoch [120/200], Loss: 0.9379\n",
      "Epoch [130/200], Loss: 0.7513\n",
      "Epoch [140/200], Loss: 0.6535\n",
      "Epoch [150/200], Loss: 0.5969\n",
      "Epoch [160/200], Loss: 0.5498\n",
      "Epoch [170/200], Loss: 0.5800\n",
      "Epoch [180/200], Loss: 0.4911\n",
      "Epoch [190/200], Loss: 0.4729\n",
      "Epoch [200/200], Loss: 0.4911\n"
     ]
    }
   ],
   "source": [
    "# Training loop\n",
    "for epoch in range(num_epochs):\n",
    "    # Forward pass\n",
    "    outputs = model(features_tensor)\n",
    "    loss = criterion(outputs, targets_tensor)\n",
    "\n",
    "    # Backward and optimize\n",
    "    optimizer.zero_grad()\n",
    "    loss.backward()\n",
    "    optimizer.step()\n",
    "\n",
    "    # Print the loss for every few epochs\n",
    "    if (epoch + 1) % 10 == 0:\n",
    "        print(f'Epoch [{epoch+1}/{num_epochs}], Loss: {loss.item():.4f}')"
   ]
  },
  {
   "cell_type": "code",
   "execution_count": 9,
   "id": "21971f35-755a-4945-a81e-6675de133fb2",
   "metadata": {},
   "outputs": [],
   "source": [
    "# Save the trained model to a file\n",
    "torch.save(model.state_dict(), 'model.pth')"
   ]
  },
  {
   "cell_type": "code",
   "execution_count": 10,
   "id": "a88f9bd5-eba5-4726-9464-260c8a5ca8a5",
   "metadata": {},
   "outputs": [],
   "source": [
    "# Load the saved model\n",
    "loaded_model = RegressionModel()\n",
    "loaded_model.load_state_dict(torch.load('model.pth'))\n",
    "loaded_model = loaded_model.to(device)"
   ]
  },
  {
   "cell_type": "code",
   "execution_count": null,
   "id": "3e9983fc-badb-4a89-a2aa-4e9469c91c06",
   "metadata": {},
   "outputs": [],
   "source": []
  },
  {
   "cell_type": "code",
   "execution_count": 11,
   "id": "f8adc722-c572-449d-b571-446ada7aa342",
   "metadata": {},
   "outputs": [],
   "source": [
    "test_features = torch.tensor(X_val.values, dtype=torch.float32).to(device)"
   ]
  },
  {
   "cell_type": "code",
   "execution_count": null,
   "id": "d650323f-8788-4fab-b4a8-94fc1c4adbe7",
   "metadata": {},
   "outputs": [],
   "source": []
  },
  {
   "cell_type": "code",
   "execution_count": 12,
   "id": "29903bc9-6bdf-46f0-827b-16a62aea6eec",
   "metadata": {},
   "outputs": [],
   "source": [
    "# Use the loaded model for predictions\n",
    "# test_features = torch.tensor(test_data.values, dtype=torch.float32).to(device)\n",
    "predictions = loaded_model(test_features)"
   ]
  },
  {
   "cell_type": "code",
   "execution_count": null,
   "id": "0cee1c3b-020e-4429-8ef5-878cbba6521a",
   "metadata": {},
   "outputs": [],
   "source": []
  },
  {
   "cell_type": "code",
   "execution_count": 13,
   "id": "3b094e1c-30d9-4de7-a1c8-dc0dd8dc077c",
   "metadata": {},
   "outputs": [],
   "source": [
    "\n",
    "predictions = model(test_features)"
   ]
  },
  {
   "cell_type": "code",
   "execution_count": null,
   "id": "731430fe-77c0-41d7-a632-286224c2f491",
   "metadata": {},
   "outputs": [],
   "source": []
  },
  {
   "cell_type": "code",
   "execution_count": 14,
   "id": "c81a7733-65d1-4ccb-96bc-6318b1ad4fd5",
   "metadata": {},
   "outputs": [],
   "source": [
    "predictions = predictions.to(torch.device(\"cpu\"))"
   ]
  },
  {
   "cell_type": "code",
   "execution_count": 15,
   "id": "59b0f1d7-4079-41e1-a1b8-72ea5d9c7d96",
   "metadata": {},
   "outputs": [],
   "source": [
    "# predictions.detach().numpy()"
   ]
  },
  {
   "cell_type": "code",
   "execution_count": null,
   "id": "ca6ffc5c-312c-4c42-a59e-ae5c6826ead1",
   "metadata": {},
   "outputs": [],
   "source": []
  },
  {
   "cell_type": "code",
   "execution_count": 16,
   "id": "e8d723d5-7e19-4514-9a49-f77d12cb0605",
   "metadata": {},
   "outputs": [
    {
     "name": "stdout",
     "output_type": "stream",
     "text": [
      "MAPE (val): 2.359 %\n"
     ]
    }
   ],
   "source": [
    "print(f\"MAPE (val): {mean_absolute_percentage_error(y_val, predictions.detach().numpy()) * 100:.3f} %\")"
   ]
  },
  {
   "cell_type": "code",
   "execution_count": null,
   "id": "9fcc315f-4ac9-42df-8e00-39c6af0aea8e",
   "metadata": {},
   "outputs": [],
   "source": []
  },
  {
   "cell_type": "code",
   "execution_count": 19,
   "id": "5f86a331-8353-4ec1-abbe-bf2836ccaa48",
   "metadata": {},
   "outputs": [],
   "source": [
    "loaded_model = RegressionModel()\n",
    "loaded_model.load_state_dict(torch.load('model.pth'))\n",
    "loaded_model = loaded_model.to(torch.device(\"cpu\"))"
   ]
  },
  {
   "cell_type": "code",
   "execution_count": 21,
   "id": "c8bb4bd5-e3fc-41ed-9955-a7a8ef7dbe48",
   "metadata": {},
   "outputs": [],
   "source": [
    "predictions = loaded_model(torch.tensor(X_val.values, dtype=torch.float32))"
   ]
  },
  {
   "cell_type": "code",
   "execution_count": 24,
   "id": "b18c54a3-1f96-41c1-83bf-3e77238f0f6d",
   "metadata": {},
   "outputs": [
    {
     "name": "stdout",
     "output_type": "stream",
     "text": [
      "MAPE (val): 2.359 %\n"
     ]
    }
   ],
   "source": [
    "print(f\"MAPE (val): {mean_absolute_percentage_error(y_val, predictions.detach().numpy()) * 100:.3f} %\")"
   ]
  },
  {
   "cell_type": "code",
   "execution_count": null,
   "id": "1bc48b58-8446-46fa-a88a-b125de984e1b",
   "metadata": {},
   "outputs": [],
   "source": []
  },
  {
   "cell_type": "code",
   "execution_count": 23,
   "id": "a3975434-b41f-4792-b251-e7a8ea0497a2",
   "metadata": {},
   "outputs": [
    {
     "data": {
      "text/plain": [
       "tensor([[80.3161, 43.4385],\n",
       "        [73.8120, 36.7551],\n",
       "        [86.8475, 52.2644],\n",
       "        ...,\n",
       "        [24.1283,  7.2233],\n",
       "        [21.0981,  1.4661],\n",
       "        [27.9126,  3.6389]], grad_fn=<AddmmBackward0>)"
      ]
     },
     "execution_count": 23,
     "metadata": {},
     "output_type": "execute_result"
    }
   ],
   "source": [
    "predictions"
   ]
  },
  {
   "cell_type": "code",
   "execution_count": null,
   "id": "59306f0a-ec14-4f93-8267-addd7231fa67",
   "metadata": {},
   "outputs": [],
   "source": []
  },
  {
   "cell_type": "code",
   "execution_count": 25,
   "id": "3ef92e6b-1911-402e-a835-c9c92bffcaad",
   "metadata": {},
   "outputs": [],
   "source": [
    "model = model.to(torch.device(\"cpu\"))\n",
    "torch.save(model.state_dict(), 'model.pth')"
   ]
  },
  {
   "cell_type": "code",
   "execution_count": null,
   "id": "2cb0e846-18d6-4739-91c4-5b9a535fcbbc",
   "metadata": {},
   "outputs": [],
   "source": []
  }
 ],
 "metadata": {
  "kernelspec": {
   "display_name": "Python 3 (ipykernel)",
   "language": "python",
   "name": "python3"
  },
  "language_info": {
   "codemirror_mode": {
    "name": "ipython",
    "version": 3
   },
   "file_extension": ".py",
   "mimetype": "text/x-python",
   "name": "python",
   "nbconvert_exporter": "python",
   "pygments_lexer": "ipython3",
   "version": "3.10.9"
  }
 },
 "nbformat": 4,
 "nbformat_minor": 5
}
