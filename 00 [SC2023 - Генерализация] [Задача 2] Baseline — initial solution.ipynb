{
 "cells": [
  {
   "cell_type": "code",
   "execution_count": 1,
   "metadata": {
    "ExecuteTime": {
     "end_time": "2023-05-20T08:11:49.004916Z",
     "start_time": "2023-05-20T08:11:48.057074Z"
    }
   },
   "outputs": [],
   "source": [
    "# Визуализации\n",
    "\n",
    "from matplotlib import pyplot as plt\n",
    "import seaborn as sns"
   ]
  },
  {
   "cell_type": "code",
   "execution_count": 2,
   "metadata": {
    "ExecuteTime": {
     "end_time": "2023-05-20T08:11:49.009778Z",
     "start_time": "2023-05-20T08:11:49.006754Z"
    }
   },
   "outputs": [],
   "source": [
    "plt.style.use(\"bmh\")\n",
    "plt.rcParams[\"axes.titlesize\"] = \"large\""
   ]
  },
  {
   "cell_type": "code",
   "execution_count": 3,
   "metadata": {
    "ExecuteTime": {
     "end_time": "2023-05-20T08:11:49.017061Z",
     "start_time": "2023-05-20T08:11:49.012039Z"
    }
   },
   "outputs": [],
   "source": [
    "# Общеe\n",
    "\n",
    "import os\n",
    "import tqdm\n",
    "import pathlib\n",
    "import numpy as np\n",
    "import pandas as pd\n",
    "\n",
    "tqdm.tqdm.pandas()\n",
    "pd.set_option('display.max_columns', None)"
   ]
  },
  {
   "cell_type": "code",
   "execution_count": 4,
   "metadata": {
    "ExecuteTime": {
     "end_time": "2023-05-20T08:11:49.340075Z",
     "start_time": "2023-05-20T08:11:49.018557Z"
    }
   },
   "outputs": [],
   "source": [
    "from sklearn.model_selection import train_test_split\n",
    "from sklearn.metrics import mean_absolute_percentage_error\n",
    "from catboost import CatBoostRegressor"
   ]
  },
  {
   "cell_type": "markdown",
   "metadata": {},
   "source": [
    "<div class=\"alert alert-block alert-warning\">\n",
    "Не забудьте заменить <tt>DATA_DIR</tt> на имя локальной директории, в которую сохранили файл.\n",
    "</div>"
   ]
  },
  {
   "cell_type": "code",
   "execution_count": 5,
   "metadata": {
    "ExecuteTime": {
     "end_time": "2023-05-20T08:11:49.343557Z",
     "start_time": "2023-05-20T08:11:49.341496Z"
    }
   },
   "outputs": [],
   "source": [
    "DATA_DIR = pathlib.Path(\"../data/2/dataset/\")\n",
    "RS = 3984765"
   ]
  },
  {
   "cell_type": "code",
   "execution_count": 5,
   "metadata": {},
   "outputs": [],
   "source": [
    "DATA_DIR = pathlib.Path(\"./data\")\n",
    "RS = 42"
   ]
  },
  {
   "cell_type": "markdown",
   "metadata": {},
   "source": [
    "# Загрузка данных\n",
    "\n",
    "Данные хранятся в формате Parquet: читается быстрее, места занимает меньше."
   ]
  },
  {
   "cell_type": "code",
   "execution_count": 6,
   "metadata": {
    "ExecuteTime": {
     "end_time": "2023-05-20T08:11:49.435084Z",
     "start_time": "2023-05-20T08:11:49.345120Z"
    }
   },
   "outputs": [
    {
     "data": {
      "text/html": [
       "<div>\n",
       "<style scoped>\n",
       "    .dataframe tbody tr th:only-of-type {\n",
       "        vertical-align: middle;\n",
       "    }\n",
       "\n",
       "    .dataframe tbody tr th {\n",
       "        vertical-align: top;\n",
       "    }\n",
       "\n",
       "    .dataframe thead th {\n",
       "        text-align: right;\n",
       "    }\n",
       "</style>\n",
       "<table border=\"1\" class=\"dataframe\">\n",
       "  <thead>\n",
       "    <tr style=\"text-align: right;\">\n",
       "      <th></th>\n",
       "      <th>feature0</th>\n",
       "      <th>feature1</th>\n",
       "      <th>feature2</th>\n",
       "      <th>feature3</th>\n",
       "      <th>feature4</th>\n",
       "      <th>feature5</th>\n",
       "      <th>feature6</th>\n",
       "      <th>feature7</th>\n",
       "      <th>feature8</th>\n",
       "      <th>feature9</th>\n",
       "      <th>feature10</th>\n",
       "      <th>feature11</th>\n",
       "      <th>feature12</th>\n",
       "      <th>feature13</th>\n",
       "      <th>feature14</th>\n",
       "      <th>feature15</th>\n",
       "      <th>feature16</th>\n",
       "      <th>feature17</th>\n",
       "      <th>feature18</th>\n",
       "      <th>feature19</th>\n",
       "      <th>feature20</th>\n",
       "      <th>feature21</th>\n",
       "      <th>feature22</th>\n",
       "      <th>feature23</th>\n",
       "      <th>feature24</th>\n",
       "      <th>target0</th>\n",
       "      <th>target1</th>\n",
       "    </tr>\n",
       "  </thead>\n",
       "  <tbody>\n",
       "    <tr>\n",
       "      <th>0</th>\n",
       "      <td>32.910908</td>\n",
       "      <td>17.376350</td>\n",
       "      <td>77.557840</td>\n",
       "      <td>2.929855</td>\n",
       "      <td>gas1</td>\n",
       "      <td>20.487150</td>\n",
       "      <td>57.633085</td>\n",
       "      <td>49.245392</td>\n",
       "      <td>-44.124381</td>\n",
       "      <td>23.400064</td>\n",
       "      <td>-28.640648</td>\n",
       "      <td>-10.995420</td>\n",
       "      <td>40.856313</td>\n",
       "      <td>29.912800</td>\n",
       "      <td>33.168114</td>\n",
       "      <td>18.769718</td>\n",
       "      <td>41.812507</td>\n",
       "      <td>14.203652</td>\n",
       "      <td>9.689942</td>\n",
       "      <td>17.951627</td>\n",
       "      <td>24.198589</td>\n",
       "      <td>102.448710</td>\n",
       "      <td>110.529868</td>\n",
       "      <td>56.817260</td>\n",
       "      <td>12.887802</td>\n",
       "      <td>27.050891</td>\n",
       "      <td>6.502743</td>\n",
       "    </tr>\n",
       "    <tr>\n",
       "      <th>1</th>\n",
       "      <td>41.263782</td>\n",
       "      <td>22.419445</td>\n",
       "      <td>47.945514</td>\n",
       "      <td>-25.847472</td>\n",
       "      <td>gas2</td>\n",
       "      <td>21.461239</td>\n",
       "      <td>3.474080</td>\n",
       "      <td>49.659980</td>\n",
       "      <td>-13.553188</td>\n",
       "      <td>-13.047593</td>\n",
       "      <td>-12.445940</td>\n",
       "      <td>16.657368</td>\n",
       "      <td>42.453280</td>\n",
       "      <td>99.792375</td>\n",
       "      <td>127.159321</td>\n",
       "      <td>-13.180244</td>\n",
       "      <td>50.722470</td>\n",
       "      <td>-14.451904</td>\n",
       "      <td>-0.906120</td>\n",
       "      <td>105.724742</td>\n",
       "      <td>-9.435222</td>\n",
       "      <td>-16.060150</td>\n",
       "      <td>37.286110</td>\n",
       "      <td>61.224272</td>\n",
       "      <td>39.822424</td>\n",
       "      <td>84.127890</td>\n",
       "      <td>76.578716</td>\n",
       "    </tr>\n",
       "    <tr>\n",
       "      <th>2</th>\n",
       "      <td>25.580283</td>\n",
       "      <td>17.376350</td>\n",
       "      <td>77.654180</td>\n",
       "      <td>2.799411</td>\n",
       "      <td>gas1</td>\n",
       "      <td>20.487150</td>\n",
       "      <td>28.938295</td>\n",
       "      <td>49.245392</td>\n",
       "      <td>-44.124381</td>\n",
       "      <td>20.610679</td>\n",
       "      <td>-28.641150</td>\n",
       "      <td>-1.886830</td>\n",
       "      <td>40.927941</td>\n",
       "      <td>16.340674</td>\n",
       "      <td>60.760647</td>\n",
       "      <td>18.658501</td>\n",
       "      <td>52.731646</td>\n",
       "      <td>14.395054</td>\n",
       "      <td>9.779019</td>\n",
       "      <td>17.951638</td>\n",
       "      <td>24.999453</td>\n",
       "      <td>101.728213</td>\n",
       "      <td>111.471534</td>\n",
       "      <td>52.664304</td>\n",
       "      <td>12.887802</td>\n",
       "      <td>22.080133</td>\n",
       "      <td>3.036043</td>\n",
       "    </tr>\n",
       "    <tr>\n",
       "      <th>3</th>\n",
       "      <td>33.756900</td>\n",
       "      <td>17.376350</td>\n",
       "      <td>73.049625</td>\n",
       "      <td>2.953982</td>\n",
       "      <td>gas1</td>\n",
       "      <td>20.487150</td>\n",
       "      <td>28.932311</td>\n",
       "      <td>49.245392</td>\n",
       "      <td>-44.124381</td>\n",
       "      <td>18.107963</td>\n",
       "      <td>-28.642094</td>\n",
       "      <td>16.284415</td>\n",
       "      <td>40.869406</td>\n",
       "      <td>43.707663</td>\n",
       "      <td>48.037510</td>\n",
       "      <td>18.771030</td>\n",
       "      <td>52.305692</td>\n",
       "      <td>14.184314</td>\n",
       "      <td>9.798969</td>\n",
       "      <td>17.951675</td>\n",
       "      <td>23.990300</td>\n",
       "      <td>101.312113</td>\n",
       "      <td>115.589451</td>\n",
       "      <td>56.840719</td>\n",
       "      <td>12.887802</td>\n",
       "      <td>30.234082</td>\n",
       "      <td>8.910795</td>\n",
       "    </tr>\n",
       "    <tr>\n",
       "      <th>4</th>\n",
       "      <td>4.223732</td>\n",
       "      <td>38.772534</td>\n",
       "      <td>48.015553</td>\n",
       "      <td>-25.843943</td>\n",
       "      <td>gas2</td>\n",
       "      <td>24.635721</td>\n",
       "      <td>12.011581</td>\n",
       "      <td>51.030938</td>\n",
       "      <td>84.244199</td>\n",
       "      <td>-17.735680</td>\n",
       "      <td>40.395582</td>\n",
       "      <td>16.557978</td>\n",
       "      <td>65.988300</td>\n",
       "      <td>91.081310</td>\n",
       "      <td>150.949700</td>\n",
       "      <td>-13.172169</td>\n",
       "      <td>51.012294</td>\n",
       "      <td>-14.439953</td>\n",
       "      <td>8.262354</td>\n",
       "      <td>90.187207</td>\n",
       "      <td>-2.901661</td>\n",
       "      <td>-16.060150</td>\n",
       "      <td>37.398779</td>\n",
       "      <td>40.488468</td>\n",
       "      <td>128.295838</td>\n",
       "      <td>71.128092</td>\n",
       "      <td>50.475082</td>\n",
       "    </tr>\n",
       "  </tbody>\n",
       "</table>\n",
       "</div>"
      ],
      "text/plain": [
       "    feature0   feature1   feature2   feature3 feature4   feature5   feature6   \n",
       "0  32.910908  17.376350  77.557840   2.929855     gas1  20.487150  57.633085  \\\n",
       "1  41.263782  22.419445  47.945514 -25.847472     gas2  21.461239   3.474080   \n",
       "2  25.580283  17.376350  77.654180   2.799411     gas1  20.487150  28.938295   \n",
       "3  33.756900  17.376350  73.049625   2.953982     gas1  20.487150  28.932311   \n",
       "4   4.223732  38.772534  48.015553 -25.843943     gas2  24.635721  12.011581   \n",
       "\n",
       "    feature7   feature8   feature9  feature10  feature11  feature12   \n",
       "0  49.245392 -44.124381  23.400064 -28.640648 -10.995420  40.856313  \\\n",
       "1  49.659980 -13.553188 -13.047593 -12.445940  16.657368  42.453280   \n",
       "2  49.245392 -44.124381  20.610679 -28.641150  -1.886830  40.927941   \n",
       "3  49.245392 -44.124381  18.107963 -28.642094  16.284415  40.869406   \n",
       "4  51.030938  84.244199 -17.735680  40.395582  16.557978  65.988300   \n",
       "\n",
       "   feature13   feature14  feature15  feature16  feature17  feature18   \n",
       "0  29.912800   33.168114  18.769718  41.812507  14.203652   9.689942  \\\n",
       "1  99.792375  127.159321 -13.180244  50.722470 -14.451904  -0.906120   \n",
       "2  16.340674   60.760647  18.658501  52.731646  14.395054   9.779019   \n",
       "3  43.707663   48.037510  18.771030  52.305692  14.184314   9.798969   \n",
       "4  91.081310  150.949700 -13.172169  51.012294 -14.439953   8.262354   \n",
       "\n",
       "    feature19  feature20   feature21   feature22  feature23   feature24   \n",
       "0   17.951627  24.198589  102.448710  110.529868  56.817260   12.887802  \\\n",
       "1  105.724742  -9.435222  -16.060150   37.286110  61.224272   39.822424   \n",
       "2   17.951638  24.999453  101.728213  111.471534  52.664304   12.887802   \n",
       "3   17.951675  23.990300  101.312113  115.589451  56.840719   12.887802   \n",
       "4   90.187207  -2.901661  -16.060150   37.398779  40.488468  128.295838   \n",
       "\n",
       "     target0    target1  \n",
       "0  27.050891   6.502743  \n",
       "1  84.127890  76.578716  \n",
       "2  22.080133   3.036043  \n",
       "3  30.234082   8.910795  \n",
       "4  71.128092  50.475082  "
      ]
     },
     "execution_count": 6,
     "metadata": {},
     "output_type": "execute_result"
    }
   ],
   "source": [
    "train = pd.read_parquet(DATA_DIR.joinpath(\"train.parquet\"))\n",
    "train.head()"
   ]
  },
  {
   "cell_type": "markdown",
   "metadata": {
    "ExecuteTime": {
     "end_time": "2023-05-20T08:00:04.482901Z",
     "start_time": "2023-05-20T08:00:04.479458Z"
    }
   },
   "source": [
    "В данных есть один категориальный признак: `feature4`. Он может принимать значения `gas1` и `gas2`. Таргета два: `target0` и `target1`."
   ]
  },
  {
   "cell_type": "code",
   "execution_count": 7,
   "metadata": {
    "ExecuteTime": {
     "end_time": "2023-05-20T08:11:49.445101Z",
     "start_time": "2023-05-20T08:11:49.436433Z"
    }
   },
   "outputs": [],
   "source": [
    "CAT = [\"feature4\"]\n",
    "TARGETS = [\"target0\", \"target1\"]\n",
    "FTS = train.filter(like=\"feature\").columns.difference(CAT)"
   ]
  },
  {
   "cell_type": "markdown",
   "metadata": {},
   "source": [
    "Проверяем, что с пропусками:"
   ]
  },
  {
   "cell_type": "code",
   "execution_count": 8,
   "metadata": {
    "ExecuteTime": {
     "end_time": "2023-05-20T08:11:49.459073Z",
     "start_time": "2023-05-20T08:11:49.447400Z"
    }
   },
   "outputs": [
    {
     "data": {
      "text/plain": [
       "0.0"
      ]
     },
     "execution_count": 8,
     "metadata": {},
     "output_type": "execute_result"
    }
   ],
   "source": [
    "train.isnull().any().mean()"
   ]
  },
  {
   "cell_type": "markdown",
   "metadata": {},
   "source": [
    "Их нет! Вот это поворот! Посмотрим на таргеты:"
   ]
  },
  {
   "cell_type": "code",
   "execution_count": 9,
   "metadata": {
    "ExecuteTime": {
     "end_time": "2023-05-20T08:11:49.675390Z",
     "start_time": "2023-05-20T08:11:49.460772Z"
    }
   },
   "outputs": [
    {
     "data": {
      "image/png": "[encoded data removed]",
      "text/plain": [
       "<Figure size 600x600 with 1 Axes>"
      ]
     },
     "metadata": {},
     "output_type": "display_data"
    }
   ],
   "source": [
    "plt.figure(figsize=(6,6))\n",
    "\n",
    "train[TARGETS].plot(kind=\"hist\", range=(0, 100), bins=20, alpha=0.6, ax=plt.gca())\n",
    "plt.xlabel(\"target\");"
   ]
  },
  {
   "cell_type": "markdown",
   "metadata": {},
   "source": [
    "Категориальный признак меняем на числовой:"
   ]
  },
  {
   "cell_type": "code",
   "execution_count": 10,
   "metadata": {
    "ExecuteTime": {
     "end_time": "2023-05-20T08:11:49.690777Z",
     "start_time": "2023-05-20T08:11:49.677608Z"
    }
   },
   "outputs": [],
   "source": [
    "train[\"gas\"] = 0\n",
    "train.loc[train.feature4==\"gas2\", \"gas\"] = 1"
   ]
  },
  {
   "cell_type": "code",
   "execution_count": 11,
   "metadata": {
    "ExecuteTime": {
     "end_time": "2023-05-20T08:11:49.695462Z",
     "start_time": "2023-05-20T08:11:49.692438Z"
    }
   },
   "outputs": [],
   "source": [
    "FTS = FTS.union([\"gas\"])"
   ]
  },
  {
   "cell_type": "markdown",
   "metadata": {},
   "source": [
    "# Простая модель\n",
    "\n",
    "Построим простую модель со случайным разбиением на тренировочное и валидационное множества. Таргеты будем моделировать отдельно."
   ]
  },
  {
   "cell_type": "code",
   "execution_count": 12,
   "metadata": {
    "ExecuteTime": {
     "end_time": "2023-05-20T08:11:49.737824Z",
     "start_time": "2023-05-20T08:11:49.697518Z"
    }
   },
   "outputs": [],
   "source": [
    "X_tr, X_val, y_tr, y_val = train_test_split(train[FTS], train[TARGETS], train_size=0.5, random_state=RS)"
   ]
  },
  {
   "cell_type": "code",
   "execution_count": 27,
   "metadata": {
    "ExecuteTime": {
     "end_time": "2023-05-20T08:12:38.294576Z",
     "start_time": "2023-05-20T08:11:49.739818Z"
    }
   },
   "outputs": [
    {
     "name": "stdout",
     "output_type": "stream",
     "text": [
      "target0 ==========\n",
      "0:\tlearn: 0.3849499\ttest: 0.3882364\tbest: 0.3882364 (0)\ttotal: 9.09ms\tremaining: 45.4s\n",
      "200:\tlearn: 0.0651563\ttest: 0.0653452\tbest: 0.0653452 (200)\ttotal: 1.61s\tremaining: 38.4s\n",
      "400:\tlearn: 0.0238987\ttest: 0.0238584\tbest: 0.0238584 (400)\ttotal: 3.42s\tremaining: 39.2s\n",
      "600:\tlearn: 0.0147546\ttest: 0.0148271\tbest: 0.0148271 (600)\ttotal: 5.53s\tremaining: 40.5s\n",
      "800:\tlearn: 0.0120293\ttest: 0.0121300\tbest: 0.0121300 (800)\ttotal: 7.1s\tremaining: 37.2s\n",
      "1000:\tlearn: 0.0103850\ttest: 0.0104976\tbest: 0.0104976 (1000)\ttotal: 8.76s\tremaining: 35s\n",
      "1200:\tlearn: 0.0093929\ttest: 0.0095225\tbest: 0.0095225 (1200)\ttotal: 10.8s\tremaining: 34.3s\n",
      "1400:\tlearn: 0.0086623\ttest: 0.0088086\tbest: 0.0088086 (1400)\ttotal: 12.6s\tremaining: 32.3s\n",
      "1600:\tlearn: 0.0080397\ttest: 0.0082001\tbest: 0.0082001 (1600)\ttotal: 14.3s\tremaining: 30.3s\n",
      "1800:\tlearn: 0.0075825\ttest: 0.0077523\tbest: 0.0077523 (1800)\ttotal: 16.2s\tremaining: 28.7s\n",
      "2000:\tlearn: 0.0072116\ttest: 0.0073942\tbest: 0.0073942 (2000)\ttotal: 18.2s\tremaining: 27.2s\n",
      "2200:\tlearn: 0.0069329\ttest: 0.0071276\tbest: 0.0071276 (2200)\ttotal: 20s\tremaining: 25.4s\n",
      "2400:\tlearn: 0.0066694\ttest: 0.0068721\tbest: 0.0068721 (2400)\ttotal: 21.8s\tremaining: 23.6s\n",
      "2600:\tlearn: 0.0064451\ttest: 0.0066548\tbest: 0.0066548 (2600)\ttotal: 24s\tremaining: 22.2s\n",
      "2800:\tlearn: 0.0062253\ttest: 0.0064391\tbest: 0.0064391 (2800)\ttotal: 25.8s\tremaining: 20.3s\n",
      "3000:\tlearn: 0.0060239\ttest: 0.0062437\tbest: 0.0062437 (3000)\ttotal: 27.5s\tremaining: 18.3s\n",
      "3200:\tlearn: 0.0058242\ttest: 0.0060462\tbest: 0.0060462 (3200)\ttotal: 29.9s\tremaining: 16.8s\n",
      "3400:\tlearn: 0.0056385\ttest: 0.0058639\tbest: 0.0058639 (3400)\ttotal: 31.6s\tremaining: 14.8s\n",
      "3600:\tlearn: 0.0054961\ttest: 0.0057249\tbest: 0.0057249 (3600)\ttotal: 33.4s\tremaining: 13s\n",
      "3800:\tlearn: 0.0053721\ttest: 0.0056060\tbest: 0.0056060 (3800)\ttotal: 35.7s\tremaining: 11.3s\n",
      "4000:\tlearn: 0.0052362\ttest: 0.0054708\tbest: 0.0054708 (4000)\ttotal: 37.9s\tremaining: 9.46s\n",
      "4200:\tlearn: 0.0051247\ttest: 0.0053643\tbest: 0.0053643 (4200)\ttotal: 40.2s\tremaining: 7.64s\n",
      "4400:\tlearn: 0.0050011\ttest: 0.0052447\tbest: 0.0052447 (4400)\ttotal: 42.4s\tremaining: 5.78s\n",
      "4600:\tlearn: 0.0048960\ttest: 0.0051432\tbest: 0.0051432 (4600)\ttotal: 44.6s\tremaining: 3.87s\n",
      "4800:\tlearn: 0.0047911\ttest: 0.0050415\tbest: 0.0050415 (4800)\ttotal: 47s\tremaining: 1.95s\n",
      "4999:\tlearn: 0.0047023\ttest: 0.0049551\tbest: 0.0049551 (4999)\ttotal: 49.5s\tremaining: 0us\n",
      "\n",
      "bestTest = 0.004955145626\n",
      "bestIteration = 4999\n",
      "\n",
      "target1 ==========\n",
      "0:\tlearn: 0.6367980\ttest: 0.6397262\tbest: 0.6397262 (0)\ttotal: 12.8ms\tremaining: 1m 4s\n",
      "200:\tlearn: 0.2847067\ttest: 0.2911762\tbest: 0.2911762 (200)\ttotal: 2.28s\tremaining: 54.4s\n",
      "400:\tlearn: 0.1309718\ttest: 0.1344560\tbest: 0.1344560 (400)\ttotal: 4.47s\tremaining: 51.3s\n",
      "600:\tlearn: 0.0965694\ttest: 0.0993640\tbest: 0.0993640 (600)\ttotal: 7.03s\tremaining: 51.4s\n",
      "800:\tlearn: 0.0830974\ttest: 0.0857186\tbest: 0.0857186 (800)\ttotal: 9.34s\tremaining: 49s\n",
      "1000:\tlearn: 0.0760966\ttest: 0.0785989\tbest: 0.0785989 (1000)\ttotal: 11.6s\tremaining: 46.5s\n",
      "1200:\tlearn: 0.0712650\ttest: 0.0737149\tbest: 0.0737149 (1200)\ttotal: 13.9s\tremaining: 44s\n",
      "1400:\tlearn: 0.0679034\ttest: 0.0703281\tbest: 0.0703281 (1400)\ttotal: 16.2s\tremaining: 41.6s\n",
      "1600:\tlearn: 0.0657070\ttest: 0.0681096\tbest: 0.0681096 (1600)\ttotal: 18.5s\tremaining: 39.3s\n",
      "1800:\tlearn: 0.0595853\ttest: 0.0619795\tbest: 0.0619795 (1800)\ttotal: 20.7s\tremaining: 36.7s\n",
      "2000:\tlearn: 0.0548336\ttest: 0.0572411\tbest: 0.0572411 (2000)\ttotal: 23s\tremaining: 34.5s\n",
      "2200:\tlearn: 0.0527635\ttest: 0.0551645\tbest: 0.0551645 (2200)\ttotal: 25.2s\tremaining: 32.1s\n",
      "2400:\tlearn: 0.0487392\ttest: 0.0510544\tbest: 0.0510544 (2400)\ttotal: 27.4s\tremaining: 29.7s\n",
      "2600:\tlearn: 0.0458422\ttest: 0.0479959\tbest: 0.0479959 (2600)\ttotal: 29.7s\tremaining: 27.4s\n",
      "2800:\tlearn: 0.0426919\ttest: 0.0446183\tbest: 0.0446183 (2800)\ttotal: 31.9s\tremaining: 25s\n",
      "3000:\tlearn: 0.0402616\ttest: 0.0420781\tbest: 0.0420781 (3000)\ttotal: 34.1s\tremaining: 22.7s\n",
      "3200:\tlearn: 0.0381582\ttest: 0.0398457\tbest: 0.0398447 (3199)\ttotal: 36.3s\tremaining: 20.4s\n",
      "3400:\tlearn: 0.0360326\ttest: 0.0376691\tbest: 0.0376691 (3400)\ttotal: 38.6s\tremaining: 18.2s\n",
      "3600:\tlearn: 0.0352491\ttest: 0.0368364\tbest: 0.0368352 (3599)\ttotal: 41s\tremaining: 15.9s\n",
      "3800:\tlearn: 0.0326455\ttest: 0.0339206\tbest: 0.0339196 (3796)\ttotal: 43.3s\tremaining: 13.7s\n",
      "4000:\tlearn: 0.0317444\ttest: 0.0329683\tbest: 0.0329683 (4000)\ttotal: 45.7s\tremaining: 11.4s\n",
      "4200:\tlearn: 0.0304229\ttest: 0.0315987\tbest: 0.0315987 (4200)\ttotal: 48s\tremaining: 9.13s\n",
      "4400:\tlearn: 0.0293846\ttest: 0.0305186\tbest: 0.0305186 (4400)\ttotal: 50.4s\tremaining: 6.86s\n",
      "4600:\tlearn: 0.0278145\ttest: 0.0288905\tbest: 0.0288905 (4600)\ttotal: 52.7s\tremaining: 4.57s\n",
      "4800:\tlearn: 0.0270882\ttest: 0.0281453\tbest: 0.0281453 (4800)\ttotal: 55s\tremaining: 2.28s\n",
      "4999:\tlearn: 0.0266403\ttest: 0.0277042\tbest: 0.0277041 (4997)\ttotal: 57.4s\tremaining: 0us\n",
      "\n",
      "bestTest = 0.02770406146\n",
      "bestIteration = 4997\n",
      "\n",
      "Shrink model to first 4998 iterations.\n",
      "CPU times: total: 13min 31s\n",
      "Wall time: 1min 51s\n"
     ]
    }
   ],
   "source": [
    "%%time\n",
    "models = {}\n",
    "tr_preds = []\n",
    "val_preds = []\n",
    "\n",
    "for tg in TARGETS:\n",
    "    print(f\"{tg}\", \"=\" * 10)\n",
    "    cb_model = CatBoostRegressor(max_depth=4, iterations=5000,\n",
    "                                 early_stopping_rounds=20, objective=\"MAPE\", verbose=200,\n",
    "                                 random_state=RS)\n",
    "    cb_model.fit(X_tr, y_tr[tg], eval_set=(X_val, y_val[tg]))\n",
    "\n",
    "    tr_preds.append(cb_model.predict(X_tr))\n",
    "    val_preds.append(cb_model.predict(X_val))\n",
    "\n",
    "    models[tg] = cb_model"
   ]
  },
  {
   "cell_type": "markdown",
   "metadata": {},
   "source": [
    "Собираем предсказания вместе:"
   ]
  },
  {
   "cell_type": "code",
   "execution_count": 28,
   "metadata": {
    "ExecuteTime": {
     "end_time": "2023-05-20T08:12:38.298626Z",
     "start_time": "2023-05-20T08:12:38.296009Z"
    }
   },
   "outputs": [],
   "source": [
    "tr_preds = np.column_stack(tr_preds)\n",
    "val_preds = np.column_stack(val_preds)"
   ]
  },
  {
   "cell_type": "code",
   "execution_count": 29,
   "metadata": {
    "ExecuteTime": {
     "end_time": "2023-05-20T08:12:38.303940Z",
     "start_time": "2023-05-20T08:12:38.300010Z"
    }
   },
   "outputs": [],
   "source": [
    "tr_preds = np.clip(tr_preds, 0, 100)\n",
    "val_preds = np.clip(val_preds, 0, 100)"
   ]
  },
  {
   "cell_type": "markdown",
   "metadata": {},
   "source": [
    "Посчитаем метрики (так они считаются и для загрузок на платформе):"
   ]
  },
  {
   "cell_type": "code",
   "execution_count": 30,
   "metadata": {
    "ExecuteTime": {
     "end_time": "2023-05-20T08:12:38.318940Z",
     "start_time": "2023-05-20T08:12:38.305583Z"
    }
   },
   "outputs": [
    {
     "name": "stdout",
     "output_type": "stream",
     "text": [
      "MAPE (train): 1.567 %\n",
      "MAPE (val): 1.633 %\n"
     ]
    }
   ],
   "source": [
    "print(f\"MAPE (train): {mean_absolute_percentage_error(y_tr, tr_preds) * 100:.3f} %\")\n",
    "print(f\"MAPE (val): {mean_absolute_percentage_error(y_val, val_preds) * 100:.3f} %\")"
   ]
  },
  {
   "cell_type": "markdown",
   "metadata": {},
   "source": [
    "Сохраним модели:"
   ]
  },
  {
   "cell_type": "code",
   "execution_count": 31,
   "metadata": {
    "ExecuteTime": {
     "end_time": "2023-05-20T08:12:38.333686Z",
     "start_time": "2023-05-20T08:12:38.320644Z"
    }
   },
   "outputs": [],
   "source": [
    "for target, model in models.items():\n",
    "    model.save_model(DATA_DIR.joinpath(f\"{target}-cb-v1.cbm\"))"
   ]
  },
  {
   "cell_type": "markdown",
   "metadata": {},
   "source": [
    "Эти модели (в зависимости от `RS`) должны давать на публичном лидерборде `~10%`. Как сделать так, чтобы локальная валидация сходилась с лидербордом: вот в чем вопрос!"
   ]
  },
  {
   "cell_type": "code",
   "execution_count": null,
   "metadata": {},
   "outputs": [],
   "source": []
  }
 ],
 "metadata": {
  "kernelspec": {
   "display_name": "Python 3 (ipykernel)",
   "language": "python",
   "name": "python3"
  },
  "language_info": {
   "codemirror_mode": {
    "name": "ipython",
    "version": 3
   },
   "file_extension": ".py",
   "mimetype": "text/x-python",
   "name": "python",
   "nbconvert_exporter": "python",
   "pygments_lexer": "ipython3",
   "version": "3.10.9"
  },
  "vscode": {
   "interpreter": {
    "hash": "8566eb0607572741f5df0b9bba8d97b510d80a4d430b258b7e0e8478f0b151dd"
   }
  }
 },
 "nbformat": 4,
 "nbformat_minor": 4
}
